{
 "cells": [
  {
   "cell_type": "code",
   "execution_count": 1,
   "metadata": {},
   "outputs": [],
   "source": [
    "%matplotlib inline\n",
    "from matplotlib import style\n",
    "style.use('fivethirtyeight')\n",
    "import matplotlib.pyplot as plt\n",
    "import matplotlib.dates as mdates"
   ]
  },
  {
   "cell_type": "code",
   "execution_count": 2,
   "metadata": {},
   "outputs": [],
   "source": [
    "import numpy as np\n",
    "import pandas as pd"
   ]
  },
  {
   "cell_type": "code",
   "execution_count": 3,
   "metadata": {},
   "outputs": [],
   "source": [
    "import datetime as dt"
   ]
  },
  {
   "cell_type": "markdown",
   "metadata": {},
   "source": [
    "# Reflect Tables into SQLAlchemy ORM"
   ]
  },
  {
   "cell_type": "code",
   "execution_count": 4,
   "metadata": {},
   "outputs": [],
   "source": [
    "# Python SQL toolkit and Object Relational Mapper\n",
    "import sqlalchemy\n",
    "from sqlalchemy.ext.automap import automap_base\n",
    "from sqlalchemy.orm import Session\n",
    "from sqlalchemy import create_engine, func"
   ]
  },
  {
   "cell_type": "code",
   "execution_count": 5,
   "metadata": {},
   "outputs": [],
   "source": [
    "engine = create_engine(\"sqlite:///Resources/hawaii.sqlite\")"
   ]
  },
  {
   "cell_type": "code",
   "execution_count": 6,
   "metadata": {},
   "outputs": [],
   "source": [
    "# reflect an existing database into a new model\n",
    "Base = automap_base()\n",
    "# reflect the tables\n",
    "Base.prepare(engine, reflect=True)\n"
   ]
  },
  {
   "cell_type": "code",
   "execution_count": 7,
   "metadata": {},
   "outputs": [
    {
     "data": {
      "text/plain": [
       "['measurement', 'station']"
      ]
     },
     "execution_count": 7,
     "metadata": {},
     "output_type": "execute_result"
    }
   ],
   "source": [
    "# We can view all of the classes that automap found\n",
    "Base.classes.keys()"
   ]
  },
  {
   "cell_type": "code",
   "execution_count": 8,
   "metadata": {},
   "outputs": [],
   "source": [
    "# Save references to each table\n",
    "Measurement = Base.classes.measurement\n",
    "Station = Base.classes.station"
   ]
  },
  {
   "cell_type": "code",
   "execution_count": 9,
   "metadata": {},
   "outputs": [],
   "source": [
    "# Create our session (link) from Python to the DB\n",
    "session = Session(engine)"
   ]
  },
  {
   "cell_type": "markdown",
   "metadata": {},
   "source": [
    "# Exploratory Climate Analysis"
   ]
  },
  {
   "cell_type": "code",
   "execution_count": 10,
   "metadata": {},
   "outputs": [
    {
     "name": "stdout",
     "output_type": "stream",
     "text": [
      "Table name : measurement\n",
      "id INTEGER\n",
      "station TEXT\n",
      "date TEXT\n",
      "prcp FLOAT\n",
      "tobs FLOAT\n",
      " \n",
      "Table name : station\n",
      "id INTEGER\n",
      "station TEXT\n",
      "name TEXT\n",
      "latitude FLOAT\n",
      "longitude FLOAT\n",
      "elevation FLOAT\n"
     ]
    }
   ],
   "source": [
    "from sqlalchemy import inspect\n",
    "inspector = inspect(engine)\n",
    "columns = inspector.get_columns('measurement')\n",
    "print(\"Table name : measurement\")\n",
    "for column in columns:\n",
    "    print(column[\"name\"], column[\"type\"])\n",
    "print(\" \")    \n",
    "print(\"Table name : station\")\n",
    "columns = inspector.get_columns('station')\n",
    "for column in columns:\n",
    "    print(column[\"name\"], column[\"type\"])\n"
   ]
  },
  {
   "cell_type": "code",
   "execution_count": 11,
   "metadata": {},
   "outputs": [
    {
     "data": {
      "text/plain": [
       "[('USC00511918', 'HONOLULU OBSERVATORY 702.2, HI US'),\n",
       " ('USC00513117', 'KANEOHE 838.1, HI US'),\n",
       " ('USC00514830', 'KUALOA RANCH HEADQUARTERS 886.9, HI US'),\n",
       " ('USC00516128', 'MANOA LYON ARBO 785.2, HI US'),\n",
       " ('USC00517948', 'PEARL CITY, HI US'),\n",
       " ('USC00518838', 'UPPER WAHIAWA 874.3, HI US'),\n",
       " ('USC00519281', 'WAIHEE 837.5, HI US'),\n",
       " ('USC00519397', 'WAIKIKI 717.2, HI US'),\n",
       " ('USC00519523', 'WAIMANALO EXPERIMENTAL FARM, HI US')]"
      ]
     },
     "execution_count": 11,
     "metadata": {},
     "output_type": "execute_result"
    }
   ],
   "source": [
    "session.query(Station.station, Station.name).order_by(Station.station).all()"
   ]
  },
  {
   "cell_type": "code",
   "execution_count": 12,
   "metadata": {},
   "outputs": [
    {
     "data": {
      "text/plain": [
       "[('USC00511918', '2015-10-30'),\n",
       " ('USC00513117', '2017-07-31'),\n",
       " ('USC00514830', '2017-08-23'),\n",
       " ('USC00516128', '2017-08-23'),\n",
       " ('USC00517948', '2017-07-31'),\n",
       " ('USC00518838', '2015-11-20'),\n",
       " ('USC00519281', '2017-08-18'),\n",
       " ('USC00519397', '2017-08-23'),\n",
       " ('USC00519523', '2017-08-23')]"
      ]
     },
     "execution_count": 12,
     "metadata": {},
     "output_type": "execute_result"
    }
   ],
   "source": [
    "session.query(Measurement.station, func.max(Measurement.date)).group_by(Measurement.station).order_by(Measurement.station).all()"
   ]
  },
  {
   "cell_type": "code",
   "execution_count": 13,
   "metadata": {},
   "outputs": [
    {
     "name": "stdout",
     "output_type": "stream",
     "text": [
      "last_date:2017-08-23, starting_date_of_year_ago:2016-08-23\n"
     ]
    },
    {
     "data": {
      "image/png": "[encoded data removed]",
      "text/plain": [
       "<Figure size 864x648 with 1 Axes>"
      ]
     },
     "metadata": {},
     "output_type": "display_data"
    }
   ],
   "source": [
    "# Design a query to retrieve the last 12 months of precipitation data and plot the results\n",
    "date_query = session.query(Measurement.date).order_by(Measurement.date.desc()).first()\n",
    "date_split = date_query[0].split(\"-\")\n",
    "last_date = dt.date(int(date_split[0]),int(date_split[1]), int(date_split[2]))\n",
    "date_year_ago = last_date - dt.timedelta(days=365)\n",
    "print(f'last_date:{last_date}, starting_date_of_year_ago:{date_year_ago}')\n",
    "\n",
    "# Perform a query to retrieve the data and precipitation scores\n",
    "precipitation_data = session.query(Measurement.date, func.max(Measurement.prcp)).\\\n",
    "    group_by(Measurement.date).filter(Measurement.date > date_year_ago).\\\n",
    "    order_by(Measurement.date.desc()).statement\n",
    "\n",
    "# Save the query results as a Pandas DataFrame and set the index to the date column\n",
    "prcp_df = pd.read_sql_query(precipitation_data,session.bind)\n",
    "prcp_df.rename(columns={\"max_1\":\"max_prcp\"}, inplace=True)\n",
    "prcp_df.set_index('date', inplace=True)\n",
    "prcp_df.index=pd.to_datetime(prcp_df.index)\n",
    "\n",
    "# # Sort the dataframe by date\n",
    "# # Use Pandas Plotting with Matplotlib to plot the data\n",
    "# fig, ax = plt.subplots(figsize=(15,7))\n",
    "# prcp_df.plot(kind='bar', width=3, ax=ax)\n",
    "# ax.set_ylabel(\"Precipitation\")\n",
    "# ax.set_xlabel(\"Date\")\n",
    "# ax.set_title(\"...\")\n",
    "# ax.xaxis.set_major_formatter(mdates.DateFormatter(fmt='%Y-%m-%d'))\n",
    "# ax.xaxis.set_major_locator(mdates.MonthLocator(interval=1))\n",
    "# ax.grid(axis='both', color='gray')\n",
    "plt.figure(figsize=(12,9))\n",
    "plt.bar(prcp_df.index, prcp_df.max_prcp, width=3, label='prcp')\n",
    "plt.xticks(rotation=90)\n",
    "plt.grid(axis='both', color='gray')\n",
    "plt.xlabel(\"Date\")\n",
    "plt.ylabel(\"Precipitation\")\n",
    "plt.legend(loc='upper right')\n",
    "plt.title('Precipitation vs. Date in Honululu area')\n",
    "plt.show()"
   ]
  },
  {
   "cell_type": "code",
   "execution_count": 14,
   "metadata": {},
   "outputs": [
    {
     "name": "stdout",
     "output_type": "stream",
     "text": [
      "         max_prcp\n",
      "count  365.000000\n",
      "mean     0.517288\n",
      "std      0.829196\n",
      "min      0.000000\n",
      "25%      0.040000\n",
      "50%      0.250000\n",
      "75%      0.650000\n",
      "max      6.700000\n"
     ]
    }
   ],
   "source": [
    "# Use Pandas to calcualte the summary statistics for the precipitation data\n",
    "print(prcp_df.describe())"
   ]
  },
  {
   "cell_type": "code",
   "execution_count": 15,
   "metadata": {},
   "outputs": [
    {
     "name": "stdout",
     "output_type": "stream",
     "text": [
      "The number of available stations are 9.\n"
     ]
    }
   ],
   "source": [
    "# Design a query to show how many stations are available in this dataset?\n",
    "station_list = list(np.ravel(session.query(Measurement.station).distinct().all()))\n",
    "station_list\n",
    "print(f\"The number of available stations are {len(station_list)}.\")"
   ]
  },
  {
   "cell_type": "code",
   "execution_count": 16,
   "metadata": {},
   "outputs": [
    {
     "name": "stdout",
     "output_type": "stream",
     "text": [
      "Most active station is USC00519281 with 2772 rows.\n",
      "List of active stations are:\n",
      "Station USC00519281 with 2772 rows.\n",
      "Station USC00519397 with 2724 rows.\n",
      "Station USC00513117 with 2709 rows.\n",
      "Station USC00519523 with 2669 rows.\n",
      "Station USC00516128 with 2612 rows.\n",
      "Station USC00514830 with 2202 rows.\n",
      "Station USC00511918 with 1979 rows.\n",
      "Station USC00517948 with 1372 rows.\n",
      "Station USC00518838 with 511 rows.\n"
     ]
    }
   ],
   "source": [
    "# What are the most active stations? (i.e. what stations have the most rows)?\n",
    "# List the stations and the counts in descending order.\n",
    "list_active_stations = session.query(Measurement.station, func.count(Measurement.station)).\\\n",
    "             group_by(Measurement.station).order_by(func.count(Measurement.station).desc()).all()\n",
    "print(f\"Most active station is {list_active_stations[0][0]} with {list_active_stations[0][1]} rows.\")\n",
    "\n",
    "print(\"List of active stations are:\")\n",
    "for station in list_active_stations:\n",
    "    print(f\"Station {station[0]} with {station[1]} rows.\")"
   ]
  },
  {
   "cell_type": "code",
   "execution_count": 17,
   "metadata": {},
   "outputs": [
    {
     "name": "stdout",
     "output_type": "stream",
     "text": [
      "The station USC00519281 has 54.0 as lowest temperature recorded\n",
      "The station USC00519281 has 85.0 as highest temperature recorded\n",
      "The station USC00519281 has 54.0 as average temperature recorded\n"
     ]
    }
   ],
   "source": [
    "# Using the station id from the previous query, calculate the lowest temperature recorded, \n",
    "# highest temperature recorded, and average temperature of the most active station?\n",
    "stat_station = session.query(Measurement.station, func.min(Measurement.tobs), func.max(Measurement.tobs), func.avg(Measurement.tobs)).\\\n",
    "             filter(Measurement.station == list_active_stations[0][0]).all()\n",
    "print(f\"The station {stat_station[0][0]} has {stat_station[0][1]} as lowest temperature recorded\")\n",
    "print(f\"The station {stat_station[0][0]} has {stat_station[0][2]} as highest temperature recorded\")\n",
    "print(f\"The station {stat_station[0][0]} has {round(stat_station[0][1],2)} as average temperature recorded\")"
   ]
  },
  {
   "cell_type": "code",
   "execution_count": 18,
   "metadata": {},
   "outputs": [
    {
     "name": "stdout",
     "output_type": "stream",
     "text": [
      "('WAIHEE 837.5, HI US', 'USC00519281', 2772)\n",
      "('2017-08-18',)\n",
      "Station WAIHEE 837.5, HI US's last_date of observation is 2017-08-18, date_year_ago:2016-08-18\n"
     ]
    },
    {
     "data": {
      "image/png": "[encoded data removed]",
      "text/plain": [
       "<Figure size 576x432 with 1 Axes>"
      ]
     },
     "metadata": {},
     "output_type": "display_data"
    }
   ],
   "source": [
    "# Choose the station with the highest number of temperature observations.\n",
    "high_station = session.query(Station.name, Measurement.station, func.count(Measurement.tobs)).\\\n",
    "             filter(Measurement.station == Station.station).\\\n",
    "             group_by(Measurement.station).order_by(func.count(Measurement.tobs).desc()).first()\n",
    "print(high_station)\n",
    "\n",
    "# Query the last 12 months of temperature observation data for this station and plot the results as a histogram\n",
    "print(session.query(Measurement.date).order_by(Measurement.date.desc()).filter(Measurement.station == high_station[1]).first())\n",
    "last_date = dt.date(2017,8,18)\n",
    "date_year_ago = last_date - dt.timedelta(days=365)\n",
    "print(f\"Station {high_station[0]}'s last_date of observation is {last_date}, date_year_ago:{date_year_ago}\")\n",
    "\n",
    "data = session.query(Measurement.tobs).filter(Measurement.station == high_station[1]).\\\n",
    "        filter(Measurement.date > date_year_ago).statement\n",
    "df2 = pd.read_sql_query(data, session.bind)\n",
    "df2.hist(bins=12, label='tobs', figsize=(8,6))\n",
    "plt.ylabel(\"Frequency\")\n",
    "plt.xlabel(\"Temperature\")\n",
    "plt.title(f\" Temperature observation at {high_station[0]}\")\n",
    "plt.legend()\n",
    "plt.show()"
   ]
  },
  {
   "cell_type": "markdown",
   "metadata": {},
   "source": [
    "## Bonus Challenge Assignment"
   ]
  },
  {
   "cell_type": "code",
   "execution_count": 19,
   "metadata": {},
   "outputs": [
    {
     "name": "stdout",
     "output_type": "stream",
     "text": [
      "[(62.0, 69.57142857142857, 74.0)]\n"
     ]
    }
   ],
   "source": [
    "# This function called `calc_temps` will accept start date and end date in the format '%Y-%m-%d' \n",
    "# and return the minimum, average, and maximum temperatures for that range of dates\n",
    "def calc_temps(start_date, end_date):\n",
    "    \"\"\"TMIN, TAVG, and TMAX for a list of dates.\n",
    "    \n",
    "    Args:\n",
    "        start_date (string): A date string in the format %Y-%m-%d\n",
    "        end_date (string): A date string in the format %Y-%m-%d\n",
    "        \n",
    "    Returns:\n",
    "        TMIN, TAVE, and TMAX\n",
    "    \"\"\"\n",
    "    \n",
    "    return session.query(func.min(Measurement.tobs), func.avg(Measurement.tobs), func.max(Measurement.tobs)).\\\n",
    "        filter(Measurement.date >= start_date).filter(Measurement.date <= end_date).all()\n",
    "\n",
    "# function usage example\n",
    "print(calc_temps('2012-02-28', '2012-03-05'))"
   ]
  },
  {
   "cell_type": "code",
   "execution_count": 20,
   "metadata": {},
   "outputs": [
    {
     "data": {
      "text/plain": [
       "[('2017-08-23', '2010-01-01')]"
      ]
     },
     "execution_count": 20,
     "metadata": {},
     "output_type": "execute_result"
    }
   ],
   "source": [
    "session.query(func.max(Measurement.date), func.min(Measurement.date)).all()"
   ]
  },
  {
   "cell_type": "code",
   "execution_count": 21,
   "metadata": {},
   "outputs": [],
   "source": [
    "# Use your previous function `calc_temps` to calculate the tmin, tavg, and tmax \n",
    "# for your trip using the previous year's data for those same dates.\n",
    "# MY Trip is from 07/17 until 07/31\n",
    "year_list = np.arange(2010, 2018, 1)\n",
    "trip_start_date = [2017,7,17]\n",
    "trip_end_date = [2017,7,31]\n",
    "result_list = []\n",
    "for year in year_list:\n",
    "    result_list.append(calc_temps(dt.date(year, trip_start_date[1], trip_start_date[2]),dt.date(year, trip_end_date[1], trip_end_date[2])))"
   ]
  },
  {
   "cell_type": "code",
   "execution_count": 22,
   "metadata": {},
   "outputs": [
    {
     "data": {
      "image/png": "[encoded data removed]",
      "text/plain": [
       "<Figure size 432x288 with 1 Axes>"
      ]
     },
     "metadata": {},
     "output_type": "display_data"
    }
   ],
   "source": [
    "# Plot the results from your previous query as a bar chart. \n",
    "# Use \"Trip Avg Temp\" as your Title\n",
    "# Use the average temperature for the y value\n",
    "# Use the peak-to-peak (tmax-tmin) value as the y error bar (yerr)\n",
    "y_value = []\n",
    "y_err = []\n",
    "for i in range(len(result_list)):\n",
    "    y_value.append(result_list[i][0][1])\n",
    "    y_err.append(result_list[i][0][2]-result_list[i][0][0])\n",
    "plt.bar(year_list, y_value,yerr=y_err)\n",
    "plt.xlabel(\"year\")\n",
    "plt.ylabel(\"average temperature\")\n",
    "plt.title(\"Trip Avg Temp\")\n",
    "plt.show()"
   ]
  },
  {
   "cell_type": "code",
   "execution_count": 23,
   "metadata": {},
   "outputs": [
    {
     "name": "stdout",
     "output_type": "stream",
     "text": [
      "Station, total amount of rainfall, Station Name, Station Lat, Station Lng, Station Elevation\n",
      "('USC00516128', 11.1, 'MANOA LYON ARBO 785.2, HI US', 21.3331, -157.8025, 152.4)\n",
      "('USC00519281', 1.97, 'WAIHEE 837.5, HI US', 21.45167, -157.84888999999998, 32.9)\n",
      "('USC00514830', 1.93, 'KUALOA RANCH HEADQUARTERS 886.9, HI US', 21.5213, -157.8374, 7.0)\n",
      "('USC00513117', 1.26, 'KANEOHE 838.1, HI US', 21.4234, -157.8015, 14.6)\n",
      "('USC00519523', 0.38, 'WAIMANALO EXPERIMENTAL FARM, HI US', 21.33556, -157.71139, 19.5)\n",
      "('USC00519397', 0.19, 'WAIKIKI 717.2, HI US', 21.2716, -157.8168, 3.0)\n",
      "('USC00517948', 0.01, 'PEARL CITY, HI US', 21.3934, -157.9751, 11.9)\n"
     ]
    }
   ],
   "source": [
    "# Calculate the total amount of rainfall per weather station for your trip dates using the previous year's matching dates.\n",
    "# Sort this in descending order by precipitation amount and list the station, name, latitude, longitude, and elevation\n",
    "result = session.query(Measurement.station, func.round(func.sum(Measurement.prcp),2), Station.name, Station.latitude,Station.longitude, Station.elevation).\\\n",
    "    filter(Measurement.date>=dt.date(trip_start_date[0],trip_start_date[1],trip_start_date[2])).\\\n",
    "    filter(Measurement.date<=dt.date(trip_end_date[0],trip_end_date[1],trip_end_date[2])).\\\n",
    "    filter(Measurement.station == Station.station).\\\n",
    "    group_by(Measurement.station).\\\n",
    "    order_by(func.sum(Measurement.prcp).desc()).all()\n",
    "print(\"Station, total amount of rainfall, Station Name, Station Lat, Station Lng, Station Elevation\")\n",
    "for i in range(len(result)):\n",
    "    print(result[i])"
   ]
  },
  {
   "cell_type": "code",
   "execution_count": 24,
   "metadata": {},
   "outputs": [
    {
     "data": {
      "text/plain": [
       "[(62.0, 69.15384615384616, 77.0)]"
      ]
     },
     "execution_count": 24,
     "metadata": {},
     "output_type": "execute_result"
    }
   ],
   "source": [
    "# Create a query that will calculate the daily normals \n",
    "# (i.e. the averages for tmin, tmax, and tavg for all historic data matching a specific month and day)\n",
    "\n",
    "def daily_normals(date):\n",
    "    \"\"\"Daily Normals.\n",
    "    \n",
    "    Args:\n",
    "        date (str): A date string in the format '%m-%d'\n",
    "        \n",
    "    Returns:\n",
    "        A list of tuples containing the daily normals, tmin, tavg, and tmax\n",
    "    \n",
    "    \"\"\"\n",
    "    \n",
    "    sel = [func.min(Measurement.tobs), func.avg(Measurement.tobs), func.max(Measurement.tobs)]\n",
    "    return session.query(*sel).filter(func.strftime(\"%m-%d\", Measurement.date) == date).all()\n",
    "    \n",
    "daily_normals(\"01-01\")"
   ]
  },
  {
   "cell_type": "code",
   "execution_count": 25,
   "metadata": {},
   "outputs": [
    {
     "data": {
      "text/plain": [
       "[(69.0, 74.91071428571429, 82.0)]"
      ]
     },
     "execution_count": 25,
     "metadata": {},
     "output_type": "execute_result"
    }
   ],
   "source": [
    "daily_normals(\"07-07\")"
   ]
  },
  {
   "cell_type": "code",
   "execution_count": 26,
   "metadata": {},
   "outputs": [],
   "source": [
    "# calculate the daily normals for your trip\n",
    "# push each tuple of calculations into a list called `normals`\n",
    "normals = []\n",
    "# Set the start and end date of the trip\n",
    "start_date=\"2020-07-17\"\n",
    "end_date = \"2020-07-31\"\n",
    "start_split = start_date.split(\"-\")\n",
    "end_split = end_date.split(\"-\")\n",
    "# Use the start and end date to create a range of dates\n",
    "dates = [dt.date(int(start_split[0]),int(start_split[1]),int(start_split[2])) + dt.timedelta(k) for k in range(int(end_split[2])-int(start_split[2]))]\n",
    "# Stip off the year and save a list of %m-%d strings\n",
    "month_day_list = []\n",
    "for i in range(len(dates)):\n",
    "    month_day_list.append(f\"0{dates[i].month}-{dates[i].day}\")\n",
    "# Loop through the list of %m-%d strings and calculate the normals for each date\n",
    "result_daily_normal=[]\n",
    "for i in range(len(month_day_list)):\n",
    "    result_daily_normal.append(np.array((daily_normals(month_day_list[i])[0])))"
   ]
  },
  {
   "cell_type": "code",
   "execution_count": 27,
   "metadata": {},
   "outputs": [
    {
     "data": {
      "text/html": [
       "<div>\n",
       "<style scoped>\n",
       "    .dataframe tbody tr th:only-of-type {\n",
       "        vertical-align: middle;\n",
       "    }\n",
       "\n",
       "    .dataframe tbody tr th {\n",
       "        vertical-align: top;\n",
       "    }\n",
       "\n",
       "    .dataframe thead th {\n",
       "        text-align: right;\n",
       "    }\n",
       "</style>\n",
       "<table border=\"1\" class=\"dataframe\">\n",
       "  <thead>\n",
       "    <tr style=\"text-align: right;\">\n",
       "      <th></th>\n",
       "      <th>tmin</th>\n",
       "      <th>tavg</th>\n",
       "      <th>tmax</th>\n",
       "    </tr>\n",
       "    <tr>\n",
       "      <th>trip_dates</th>\n",
       "      <th></th>\n",
       "      <th></th>\n",
       "      <th></th>\n",
       "    </tr>\n",
       "  </thead>\n",
       "  <tbody>\n",
       "    <tr>\n",
       "      <th>07-17</th>\n",
       "      <td>70.0</td>\n",
       "      <td>76.301887</td>\n",
       "      <td>83.0</td>\n",
       "    </tr>\n",
       "    <tr>\n",
       "      <th>07-18</th>\n",
       "      <td>72.0</td>\n",
       "      <td>76.637931</td>\n",
       "      <td>83.0</td>\n",
       "    </tr>\n",
       "    <tr>\n",
       "      <th>07-19</th>\n",
       "      <td>68.0</td>\n",
       "      <td>75.890909</td>\n",
       "      <td>83.0</td>\n",
       "    </tr>\n",
       "    <tr>\n",
       "      <th>07-20</th>\n",
       "      <td>69.0</td>\n",
       "      <td>75.462963</td>\n",
       "      <td>82.0</td>\n",
       "    </tr>\n",
       "    <tr>\n",
       "      <th>07-21</th>\n",
       "      <td>69.0</td>\n",
       "      <td>76.924528</td>\n",
       "      <td>83.0</td>\n",
       "    </tr>\n",
       "  </tbody>\n",
       "</table>\n",
       "</div>"
      ],
      "text/plain": [
       "            tmin       tavg  tmax\n",
       "trip_dates                       \n",
       "07-17       70.0  76.301887  83.0\n",
       "07-18       72.0  76.637931  83.0\n",
       "07-19       68.0  75.890909  83.0\n",
       "07-20       69.0  75.462963  82.0\n",
       "07-21       69.0  76.924528  83.0"
      ]
     },
     "execution_count": 27,
     "metadata": {},
     "output_type": "execute_result"
    }
   ],
   "source": [
    "# Load the previous query results into a Pandas DataFrame and add the `trip_dates` range as the `date` index\n",
    "# tmin, tavg, and tmax\n",
    "result_df = pd.DataFrame(result_daily_normal)\n",
    "result_df[\"trip_dates\"] = month_day_list\n",
    "result_df.rename(columns={0:\"tmin\", 1:\"tavg\", 2:\"tmax\"}, inplace=True)\n",
    "result_df.set_index(\"trip_dates\", inplace=True)\n",
    "result_df.head()"
   ]
  },
  {
   "cell_type": "code",
   "execution_count": 28,
   "metadata": {},
   "outputs": [
    {
     "data": {
      "image/png": "[encoded data removed]",
      "text/plain": [
       "<Figure size 432x288 with 1 Axes>"
      ]
     },
     "metadata": {},
     "output_type": "display_data"
    }
   ],
   "source": [
    "# Plot the daily normals as an area plot with `stacked=False`\n",
    "result_df.plot(kind='area', stacked=False)\n",
    "plt.ylabel(\"Temperature\")\n",
    "plt.legend(loc=\"best\")\n",
    "plt.title(\"Daily Temperature of Honululu in trip_dates\")\n",
    "plt.ylim(20,90)\n",
    "plt.show()\n"
   ]
  },
  {
   "cell_type": "code",
   "execution_count": null,
   "metadata": {},
   "outputs": [],
   "source": []
  }
 ],
 "metadata": {
  "kernel_info": {
   "name": "python3"
  },
  "kernelspec": {
   "display_name": "Python 3",
   "language": "python",
   "name": "python3"
  },
  "language_info": {
   "codemirror_mode": {
    "name": "ipython",
    "version": 3
   },
   "file_extension": ".py",
   "mimetype": "text/x-python",
   "name": "python",
   "nbconvert_exporter": "python",
   "pygments_lexer": "ipython3",
   "version": "3.7.6"
  },
  "nteract": {
   "version": "0.12.3"
  },
  "varInspector": {
   "cols": {
    "lenName": 16,
    "lenType": 16,
    "lenVar": 40
   },
   "kernels_config": {
    "python": {
     "delete_cmd_postfix": "",
     "delete_cmd_prefix": "del ",
     "library": "var_list.py",
     "varRefreshCmd": "print(var_dic_list())"
    },
    "r": {
     "delete_cmd_postfix": ") ",
     "delete_cmd_prefix": "rm(",
     "library": "var_list.r",
     "varRefreshCmd": "cat(var_dic_list()) "
    }
   },
   "types_to_exclude": [
    "module",
    "function",
    "builtin_function_or_method",
    "instance",
    "_Feature"
   ],
   "window_display": false
  }
 },
 "nbformat": 4,
 "nbformat_minor": 2
}
